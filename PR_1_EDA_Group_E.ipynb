{
  "nbformat": 4,
  "nbformat_minor": 0,
  "metadata": {
    "colab": {
      "name": "PR 1 EDA_Group E",
      "provenance": [],
      "toc_visible": true
    },
    "kernelspec": {
      "name": "python3",
      "display_name": "Python 3"
    },
    "language_info": {
      "name": "python"
    }
  },
  "cells": [
    {
      "cell_type": "markdown",
      "metadata": {
        "id": "sAljBJQDRw0m"
      },
      "source": [
        "# Nomor 1\n"
      ]
    },
    {
      "cell_type": "code",
      "metadata": {
        "id": "mxbXJc7NsSJ2"
      },
      "source": [
        "import warnings; warnings.simplefilter('ignore')\n",
        "import pandas as pd, matplotlib.pyplot as plt, seaborn as sns, numpy as np\n",
        "import matplotlib.cm as cm\n",
        "from collections import Counter\n",
        "plt.style.use('bmh'); sns.set()"
      ],
      "execution_count": 14,
      "outputs": []
    },
    {
      "cell_type": "code",
      "metadata": {
        "id": "B327R_IMsVzG"
      },
      "source": [
        "# Importing CSV data  https://pandas.pydata.org/pandas-docs/stable/reference/api/pandas.read_csv.html\n",
        "try:\n",
        "    # Running Locally \n",
        "    price = pd.read_csv('data/price.csv')\n",
        "except:\n",
        "    # Running in Google Colab\n",
        "    !mkdir data\n",
        "    !wget -P data/ https://raw.githubusercontent.com/taudata-indonesia/eLearning/master/data/price.csv\n",
        "    price = pd.read_csv('data/price.csv')"
      ],
      "execution_count": 15,
      "outputs": []
    },
    {
      "cell_type": "code",
      "metadata": {
        "colab": {
          "base_uri": "https://localhost:8080/"
        },
        "id": "yb-1d2HxsY86",
        "outputId": "ddf1edfa-44af-4c5a-b17d-b271559aa1d8"
      },
      "source": [
        "# Dari EDA-01 - Bisa juga Load PreProcessed Data\n",
        "price.drop(\"Observation\", axis=1, inplace=True)\n",
        "price.drop_duplicates(inplace=True)\n",
        "price['Parking'] = price['Parking'].astype('category')\n",
        "price['City_Category'] = price['City_Category'].astype('category')\n",
        "price2 = price[np.abs(price.House_Price - price.House_Price.mean())<=(2*price.House_Price.std())]\n",
        "price2.info()"
      ],
      "execution_count": 16,
      "outputs": [
        {
          "output_type": "stream",
          "text": [
            "<class 'pandas.core.frame.DataFrame'>\n",
            "Int64Index: 931 entries, 0 to 931\n",
            "Data columns (total 9 columns):\n",
            " #   Column         Non-Null Count  Dtype   \n",
            "---  ------         --------------  -----   \n",
            " 0   Dist_Taxi      918 non-null    float64 \n",
            " 1   Dist_Market    918 non-null    float64 \n",
            " 2   Dist_Hospital  930 non-null    float64 \n",
            " 3   Carpet         923 non-null    float64 \n",
            " 4   Builtup        916 non-null    float64 \n",
            " 5   Parking        931 non-null    category\n",
            " 6   City_Category  931 non-null    category\n",
            " 7   Rainfall       931 non-null    int64   \n",
            " 8   House_Price    931 non-null    int64   \n",
            "dtypes: category(2), float64(5), int64(2)\n",
            "memory usage: 60.3 KB\n"
          ],
          "name": "stdout"
        }
      ]
    },
    {
      "cell_type": "code",
      "metadata": {
        "colab": {
          "base_uri": "https://localhost:8080/",
          "height": 0
        },
        "id": "FQTffFt5scye",
        "outputId": "a055ea81-51f9-4b48-9c30-6ebca2c8551c"
      },
      "source": [
        "price2"
      ],
      "execution_count": 17,
      "outputs": [
        {
          "output_type": "execute_result",
          "data": {
            "text/html": [
              "<div>\n",
              "<style scoped>\n",
              "    .dataframe tbody tr th:only-of-type {\n",
              "        vertical-align: middle;\n",
              "    }\n",
              "\n",
              "    .dataframe tbody tr th {\n",
              "        vertical-align: top;\n",
              "    }\n",
              "\n",
              "    .dataframe thead th {\n",
              "        text-align: right;\n",
              "    }\n",
              "</style>\n",
              "<table border=\"1\" class=\"dataframe\">\n",
              "  <thead>\n",
              "    <tr style=\"text-align: right;\">\n",
              "      <th></th>\n",
              "      <th>Dist_Taxi</th>\n",
              "      <th>Dist_Market</th>\n",
              "      <th>Dist_Hospital</th>\n",
              "      <th>Carpet</th>\n",
              "      <th>Builtup</th>\n",
              "      <th>Parking</th>\n",
              "      <th>City_Category</th>\n",
              "      <th>Rainfall</th>\n",
              "      <th>House_Price</th>\n",
              "    </tr>\n",
              "  </thead>\n",
              "  <tbody>\n",
              "    <tr>\n",
              "      <th>0</th>\n",
              "      <td>9796.0</td>\n",
              "      <td>5250.0</td>\n",
              "      <td>10703.0</td>\n",
              "      <td>1659.0</td>\n",
              "      <td>1961.0</td>\n",
              "      <td>Open</td>\n",
              "      <td>CAT B</td>\n",
              "      <td>530</td>\n",
              "      <td>6649000</td>\n",
              "    </tr>\n",
              "    <tr>\n",
              "      <th>1</th>\n",
              "      <td>8294.0</td>\n",
              "      <td>8186.0</td>\n",
              "      <td>12694.0</td>\n",
              "      <td>1461.0</td>\n",
              "      <td>1752.0</td>\n",
              "      <td>Not Provided</td>\n",
              "      <td>CAT B</td>\n",
              "      <td>210</td>\n",
              "      <td>3982000</td>\n",
              "    </tr>\n",
              "    <tr>\n",
              "      <th>2</th>\n",
              "      <td>11001.0</td>\n",
              "      <td>14399.0</td>\n",
              "      <td>16991.0</td>\n",
              "      <td>1340.0</td>\n",
              "      <td>1609.0</td>\n",
              "      <td>Not Provided</td>\n",
              "      <td>CAT A</td>\n",
              "      <td>720</td>\n",
              "      <td>5401000</td>\n",
              "    </tr>\n",
              "    <tr>\n",
              "      <th>3</th>\n",
              "      <td>8301.0</td>\n",
              "      <td>11188.0</td>\n",
              "      <td>12289.0</td>\n",
              "      <td>1451.0</td>\n",
              "      <td>1748.0</td>\n",
              "      <td>Covered</td>\n",
              "      <td>CAT B</td>\n",
              "      <td>620</td>\n",
              "      <td>5373000</td>\n",
              "    </tr>\n",
              "    <tr>\n",
              "      <th>4</th>\n",
              "      <td>10510.0</td>\n",
              "      <td>12629.0</td>\n",
              "      <td>13921.0</td>\n",
              "      <td>1770.0</td>\n",
              "      <td>2111.0</td>\n",
              "      <td>Not Provided</td>\n",
              "      <td>CAT B</td>\n",
              "      <td>450</td>\n",
              "      <td>4662000</td>\n",
              "    </tr>\n",
              "    <tr>\n",
              "      <th>...</th>\n",
              "      <td>...</td>\n",
              "      <td>...</td>\n",
              "      <td>...</td>\n",
              "      <td>...</td>\n",
              "      <td>...</td>\n",
              "      <td>...</td>\n",
              "      <td>...</td>\n",
              "      <td>...</td>\n",
              "      <td>...</td>\n",
              "    </tr>\n",
              "    <tr>\n",
              "      <th>927</th>\n",
              "      <td>12176.0</td>\n",
              "      <td>8518.0</td>\n",
              "      <td>15673.0</td>\n",
              "      <td>1582.0</td>\n",
              "      <td>1910.0</td>\n",
              "      <td>Covered</td>\n",
              "      <td>CAT C</td>\n",
              "      <td>1080</td>\n",
              "      <td>6639000</td>\n",
              "    </tr>\n",
              "    <tr>\n",
              "      <th>928</th>\n",
              "      <td>7214.0</td>\n",
              "      <td>8717.0</td>\n",
              "      <td>10553.0</td>\n",
              "      <td>1387.0</td>\n",
              "      <td>1663.0</td>\n",
              "      <td>Open</td>\n",
              "      <td>CAT A</td>\n",
              "      <td>850</td>\n",
              "      <td>8208000</td>\n",
              "    </tr>\n",
              "    <tr>\n",
              "      <th>929</th>\n",
              "      <td>7423.0</td>\n",
              "      <td>11708.0</td>\n",
              "      <td>13220.0</td>\n",
              "      <td>1200.0</td>\n",
              "      <td>1436.0</td>\n",
              "      <td>Open</td>\n",
              "      <td>CAT A</td>\n",
              "      <td>1060</td>\n",
              "      <td>7644000</td>\n",
              "    </tr>\n",
              "    <tr>\n",
              "      <th>930</th>\n",
              "      <td>15082.0</td>\n",
              "      <td>14700.0</td>\n",
              "      <td>19617.0</td>\n",
              "      <td>1299.0</td>\n",
              "      <td>1560.0</td>\n",
              "      <td>Open</td>\n",
              "      <td>CAT B</td>\n",
              "      <td>770</td>\n",
              "      <td>9661000</td>\n",
              "    </tr>\n",
              "    <tr>\n",
              "      <th>931</th>\n",
              "      <td>9297.0</td>\n",
              "      <td>12537.0</td>\n",
              "      <td>14418.0</td>\n",
              "      <td>1174.0</td>\n",
              "      <td>1429.0</td>\n",
              "      <td>Covered</td>\n",
              "      <td>CAT C</td>\n",
              "      <td>1110</td>\n",
              "      <td>5434000</td>\n",
              "    </tr>\n",
              "  </tbody>\n",
              "</table>\n",
              "<p>931 rows × 9 columns</p>\n",
              "</div>"
            ],
            "text/plain": [
              "     Dist_Taxi  Dist_Market  Dist_Hospital  ...  City_Category  Rainfall House_Price\n",
              "0       9796.0       5250.0        10703.0  ...          CAT B       530     6649000\n",
              "1       8294.0       8186.0        12694.0  ...          CAT B       210     3982000\n",
              "2      11001.0      14399.0        16991.0  ...          CAT A       720     5401000\n",
              "3       8301.0      11188.0        12289.0  ...          CAT B       620     5373000\n",
              "4      10510.0      12629.0        13921.0  ...          CAT B       450     4662000\n",
              "..         ...          ...            ...  ...            ...       ...         ...\n",
              "927    12176.0       8518.0        15673.0  ...          CAT C      1080     6639000\n",
              "928     7214.0       8717.0        10553.0  ...          CAT A       850     8208000\n",
              "929     7423.0      11708.0        13220.0  ...          CAT A      1060     7644000\n",
              "930    15082.0      14700.0        19617.0  ...          CAT B       770     9661000\n",
              "931     9297.0      12537.0        14418.0  ...          CAT C      1110     5434000\n",
              "\n",
              "[931 rows x 9 columns]"
            ]
          },
          "metadata": {
            "tags": []
          },
          "execution_count": 17
        }
      ]
    },
    {
      "cell_type": "code",
      "metadata": {
        "colab": {
          "base_uri": "https://localhost:8080/"
        },
        "id": "2Dh2dkOcsf2l",
        "outputId": "0017e1cc-6f40-4bcd-ef31-397344cc85d5"
      },
      "source": [
        "price2.columns"
      ],
      "execution_count": 18,
      "outputs": [
        {
          "output_type": "execute_result",
          "data": {
            "text/plain": [
              "Index(['Dist_Taxi', 'Dist_Market', 'Dist_Hospital', 'Carpet', 'Builtup',\n",
              "       'Parking', 'City_Category', 'Rainfall', 'House_Price'],\n",
              "      dtype='object')"
            ]
          },
          "metadata": {
            "tags": []
          },
          "execution_count": 18
        }
      ]
    },
    {
      "cell_type": "code",
      "metadata": {
        "id": "P1iyrb3fsh6J"
      },
      "source": [
        "quartile_1 = price2[\"House_Price\"].quantile(0.25)\n",
        "quartile_3 = price2[\"House_Price\"].quantile(0.75)\n",
        "range = quartile_3 - quartile_1\n",
        "\n",
        "outliers = price2[\"House_Price\"] > 1.5 * range + quartile_3\n",
        "data_outliers = price2.loc[outliers]"
      ],
      "execution_count": 19,
      "outputs": []
    },
    {
      "cell_type": "code",
      "metadata": {
        "id": "8aPIwCf7sjpP",
        "colab": {
          "base_uri": "https://localhost:8080/",
          "height": 0
        },
        "outputId": "94f956ca-1f50-489b-9a7f-46c44e68a8fd"
      },
      "source": [
        "data_outliers # Sehingga didapat outliers nya terdapat pada baris ke 678 dengan data berikut"
      ],
      "execution_count": 20,
      "outputs": [
        {
          "output_type": "execute_result",
          "data": {
            "text/html": [
              "<div>\n",
              "<style scoped>\n",
              "    .dataframe tbody tr th:only-of-type {\n",
              "        vertical-align: middle;\n",
              "    }\n",
              "\n",
              "    .dataframe tbody tr th {\n",
              "        vertical-align: top;\n",
              "    }\n",
              "\n",
              "    .dataframe thead th {\n",
              "        text-align: right;\n",
              "    }\n",
              "</style>\n",
              "<table border=\"1\" class=\"dataframe\">\n",
              "  <thead>\n",
              "    <tr style=\"text-align: right;\">\n",
              "      <th></th>\n",
              "      <th>Dist_Taxi</th>\n",
              "      <th>Dist_Market</th>\n",
              "      <th>Dist_Hospital</th>\n",
              "      <th>Carpet</th>\n",
              "      <th>Builtup</th>\n",
              "      <th>Parking</th>\n",
              "      <th>City_Category</th>\n",
              "      <th>Rainfall</th>\n",
              "      <th>House_Price</th>\n",
              "    </tr>\n",
              "  </thead>\n",
              "  <tbody>\n",
              "    <tr>\n",
              "      <th>678</th>\n",
              "      <td>7288.0</td>\n",
              "      <td>9560.0</td>\n",
              "      <td>12531.0</td>\n",
              "      <td>1989.0</td>\n",
              "      <td>2414.0</td>\n",
              "      <td>No Parking</td>\n",
              "      <td>CAT A</td>\n",
              "      <td>860</td>\n",
              "      <td>11632000</td>\n",
              "    </tr>\n",
              "  </tbody>\n",
              "</table>\n",
              "</div>"
            ],
            "text/plain": [
              "     Dist_Taxi  Dist_Market  Dist_Hospital  ...  City_Category  Rainfall House_Price\n",
              "678     7288.0       9560.0        12531.0  ...          CAT A       860    11632000\n",
              "\n",
              "[1 rows x 9 columns]"
            ]
          },
          "metadata": {
            "tags": []
          },
          "execution_count": 20
        }
      ]
    },
    {
      "cell_type": "code",
      "metadata": {
        "colab": {
          "base_uri": "https://localhost:8080/",
          "height": 0
        },
        "id": "o7ruxDbJU-tb",
        "outputId": "5580334d-aa07-4af4-d41b-931cf7076b02"
      },
      "source": [
        "price3 = price2[price2[\"House_Price\"] <= 1.5 * range + quartile_3] # Kita meremove outliernya \n",
        "price3"
      ],
      "execution_count": 35,
      "outputs": [
        {
          "output_type": "execute_result",
          "data": {
            "text/html": [
              "<div>\n",
              "<style scoped>\n",
              "    .dataframe tbody tr th:only-of-type {\n",
              "        vertical-align: middle;\n",
              "    }\n",
              "\n",
              "    .dataframe tbody tr th {\n",
              "        vertical-align: top;\n",
              "    }\n",
              "\n",
              "    .dataframe thead th {\n",
              "        text-align: right;\n",
              "    }\n",
              "</style>\n",
              "<table border=\"1\" class=\"dataframe\">\n",
              "  <thead>\n",
              "    <tr style=\"text-align: right;\">\n",
              "      <th></th>\n",
              "      <th>Dist_Taxi</th>\n",
              "      <th>Dist_Market</th>\n",
              "      <th>Dist_Hospital</th>\n",
              "      <th>Carpet</th>\n",
              "      <th>Builtup</th>\n",
              "      <th>Parking</th>\n",
              "      <th>City_Category</th>\n",
              "      <th>Rainfall</th>\n",
              "      <th>House_Price</th>\n",
              "    </tr>\n",
              "  </thead>\n",
              "  <tbody>\n",
              "    <tr>\n",
              "      <th>0</th>\n",
              "      <td>9796.0</td>\n",
              "      <td>5250.0</td>\n",
              "      <td>10703.0</td>\n",
              "      <td>1659.0</td>\n",
              "      <td>1961.0</td>\n",
              "      <td>Open</td>\n",
              "      <td>CAT B</td>\n",
              "      <td>530</td>\n",
              "      <td>6649000</td>\n",
              "    </tr>\n",
              "    <tr>\n",
              "      <th>1</th>\n",
              "      <td>8294.0</td>\n",
              "      <td>8186.0</td>\n",
              "      <td>12694.0</td>\n",
              "      <td>1461.0</td>\n",
              "      <td>1752.0</td>\n",
              "      <td>Not Provided</td>\n",
              "      <td>CAT B</td>\n",
              "      <td>210</td>\n",
              "      <td>3982000</td>\n",
              "    </tr>\n",
              "    <tr>\n",
              "      <th>2</th>\n",
              "      <td>11001.0</td>\n",
              "      <td>14399.0</td>\n",
              "      <td>16991.0</td>\n",
              "      <td>1340.0</td>\n",
              "      <td>1609.0</td>\n",
              "      <td>Not Provided</td>\n",
              "      <td>CAT A</td>\n",
              "      <td>720</td>\n",
              "      <td>5401000</td>\n",
              "    </tr>\n",
              "    <tr>\n",
              "      <th>3</th>\n",
              "      <td>8301.0</td>\n",
              "      <td>11188.0</td>\n",
              "      <td>12289.0</td>\n",
              "      <td>1451.0</td>\n",
              "      <td>1748.0</td>\n",
              "      <td>Covered</td>\n",
              "      <td>CAT B</td>\n",
              "      <td>620</td>\n",
              "      <td>5373000</td>\n",
              "    </tr>\n",
              "    <tr>\n",
              "      <th>4</th>\n",
              "      <td>10510.0</td>\n",
              "      <td>12629.0</td>\n",
              "      <td>13921.0</td>\n",
              "      <td>1770.0</td>\n",
              "      <td>2111.0</td>\n",
              "      <td>Not Provided</td>\n",
              "      <td>CAT B</td>\n",
              "      <td>450</td>\n",
              "      <td>4662000</td>\n",
              "    </tr>\n",
              "    <tr>\n",
              "      <th>...</th>\n",
              "      <td>...</td>\n",
              "      <td>...</td>\n",
              "      <td>...</td>\n",
              "      <td>...</td>\n",
              "      <td>...</td>\n",
              "      <td>...</td>\n",
              "      <td>...</td>\n",
              "      <td>...</td>\n",
              "      <td>...</td>\n",
              "    </tr>\n",
              "    <tr>\n",
              "      <th>927</th>\n",
              "      <td>12176.0</td>\n",
              "      <td>8518.0</td>\n",
              "      <td>15673.0</td>\n",
              "      <td>1582.0</td>\n",
              "      <td>1910.0</td>\n",
              "      <td>Covered</td>\n",
              "      <td>CAT C</td>\n",
              "      <td>1080</td>\n",
              "      <td>6639000</td>\n",
              "    </tr>\n",
              "    <tr>\n",
              "      <th>928</th>\n",
              "      <td>7214.0</td>\n",
              "      <td>8717.0</td>\n",
              "      <td>10553.0</td>\n",
              "      <td>1387.0</td>\n",
              "      <td>1663.0</td>\n",
              "      <td>Open</td>\n",
              "      <td>CAT A</td>\n",
              "      <td>850</td>\n",
              "      <td>8208000</td>\n",
              "    </tr>\n",
              "    <tr>\n",
              "      <th>929</th>\n",
              "      <td>7423.0</td>\n",
              "      <td>11708.0</td>\n",
              "      <td>13220.0</td>\n",
              "      <td>1200.0</td>\n",
              "      <td>1436.0</td>\n",
              "      <td>Open</td>\n",
              "      <td>CAT A</td>\n",
              "      <td>1060</td>\n",
              "      <td>7644000</td>\n",
              "    </tr>\n",
              "    <tr>\n",
              "      <th>930</th>\n",
              "      <td>15082.0</td>\n",
              "      <td>14700.0</td>\n",
              "      <td>19617.0</td>\n",
              "      <td>1299.0</td>\n",
              "      <td>1560.0</td>\n",
              "      <td>Open</td>\n",
              "      <td>CAT B</td>\n",
              "      <td>770</td>\n",
              "      <td>9661000</td>\n",
              "    </tr>\n",
              "    <tr>\n",
              "      <th>931</th>\n",
              "      <td>9297.0</td>\n",
              "      <td>12537.0</td>\n",
              "      <td>14418.0</td>\n",
              "      <td>1174.0</td>\n",
              "      <td>1429.0</td>\n",
              "      <td>Covered</td>\n",
              "      <td>CAT C</td>\n",
              "      <td>1110</td>\n",
              "      <td>5434000</td>\n",
              "    </tr>\n",
              "  </tbody>\n",
              "</table>\n",
              "<p>930 rows × 9 columns</p>\n",
              "</div>"
            ],
            "text/plain": [
              "     Dist_Taxi  Dist_Market  Dist_Hospital  ...  City_Category  Rainfall House_Price\n",
              "0       9796.0       5250.0        10703.0  ...          CAT B       530     6649000\n",
              "1       8294.0       8186.0        12694.0  ...          CAT B       210     3982000\n",
              "2      11001.0      14399.0        16991.0  ...          CAT A       720     5401000\n",
              "3       8301.0      11188.0        12289.0  ...          CAT B       620     5373000\n",
              "4      10510.0      12629.0        13921.0  ...          CAT B       450     4662000\n",
              "..         ...          ...            ...  ...            ...       ...         ...\n",
              "927    12176.0       8518.0        15673.0  ...          CAT C      1080     6639000\n",
              "928     7214.0       8717.0        10553.0  ...          CAT A       850     8208000\n",
              "929     7423.0      11708.0        13220.0  ...          CAT A      1060     7644000\n",
              "930    15082.0      14700.0        19617.0  ...          CAT B       770     9661000\n",
              "931     9297.0      12537.0        14418.0  ...          CAT C      1110     5434000\n",
              "\n",
              "[930 rows x 9 columns]"
            ]
          },
          "metadata": {
            "tags": []
          },
          "execution_count": 35
        }
      ]
    },
    {
      "cell_type": "code",
      "metadata": {
        "colab": {
          "base_uri": "https://localhost:8080/",
          "height": 0
        },
        "id": "MnxAtM2pVW7A",
        "outputId": "0073e872-c66f-4717-845f-fbf1365ebc62"
      },
      "source": [
        "quartile_1 = price3[\"House_Price\"].quantile(0.25)\n",
        "quartile_3 = price3[\"House_Price\"].quantile(0.75)\n",
        "range = quartile_3 - quartile_1\n",
        "\n",
        "outliers = price3[\"House_Price\"] > 1.5 * range + quartile_3\n",
        "data_outliers = price3.loc[outliers]\n",
        "data_outliers\n",
        "# Sehingga sekarang sudah tidak ada outlier lagi pada dataframe"
      ],
      "execution_count": 37,
      "outputs": [
        {
          "output_type": "execute_result",
          "data": {
            "text/html": [
              "<div>\n",
              "<style scoped>\n",
              "    .dataframe tbody tr th:only-of-type {\n",
              "        vertical-align: middle;\n",
              "    }\n",
              "\n",
              "    .dataframe tbody tr th {\n",
              "        vertical-align: top;\n",
              "    }\n",
              "\n",
              "    .dataframe thead th {\n",
              "        text-align: right;\n",
              "    }\n",
              "</style>\n",
              "<table border=\"1\" class=\"dataframe\">\n",
              "  <thead>\n",
              "    <tr style=\"text-align: right;\">\n",
              "      <th></th>\n",
              "      <th>Dist_Taxi</th>\n",
              "      <th>Dist_Market</th>\n",
              "      <th>Dist_Hospital</th>\n",
              "      <th>Carpet</th>\n",
              "      <th>Builtup</th>\n",
              "      <th>Parking</th>\n",
              "      <th>City_Category</th>\n",
              "      <th>Rainfall</th>\n",
              "      <th>House_Price</th>\n",
              "    </tr>\n",
              "  </thead>\n",
              "  <tbody>\n",
              "  </tbody>\n",
              "</table>\n",
              "</div>"
            ],
            "text/plain": [
              "Empty DataFrame\n",
              "Columns: [Dist_Taxi, Dist_Market, Dist_Hospital, Carpet, Builtup, Parking, City_Category, Rainfall, House_Price]\n",
              "Index: []"
            ]
          },
          "metadata": {
            "tags": []
          },
          "execution_count": 37
        }
      ]
    },
    {
      "cell_type": "markdown",
      "metadata": {
        "id": "OU6wERpCR11u"
      },
      "source": [
        "# Nomor 2\n"
      ]
    },
    {
      "cell_type": "code",
      "metadata": {
        "id": "bmOfitEESBzQ"
      },
      "source": [
        "import numpy as np\n",
        "import pandas as pd\n",
        "import seaborn as sns\n",
        "import matplotlib.pyplot as plt\n",
        "from pandas import read_csv"
      ],
      "execution_count": 1,
      "outputs": []
    },
    {
      "cell_type": "code",
      "metadata": {
        "colab": {
          "base_uri": "https://localhost:8080/"
        },
        "id": "76_-D8hZSLQQ",
        "outputId": "6518256b-77ba-4314-9fde-b4902f52feef"
      },
      "source": [
        "try:\n",
        "    # Running Locally \n",
        "    df = pd.read_csv('data/price.csv')\n",
        "except:\n",
        "    # Running in Google Colab\n",
        "    !mkdir data\n",
        "    !wget -P data/ https://raw.githubusercontent.com/taudata-indonesia/eLearning/master/data/price.csv\n",
        "    df = pd.read_csv('data/price.csv')"
      ],
      "execution_count": 2,
      "outputs": [
        {
          "output_type": "stream",
          "text": [
            "--2021-04-14 07:29:30--  https://raw.githubusercontent.com/taudata-indonesia/eLearning/master/data/price.csv\n",
            "Resolving raw.githubusercontent.com (raw.githubusercontent.com)... 185.199.110.133, 185.199.111.133, 185.199.109.133, ...\n",
            "Connecting to raw.githubusercontent.com (raw.githubusercontent.com)|185.199.110.133|:443... connected.\n",
            "HTTP request sent, awaiting response... 200 OK\n",
            "Length: 53592 (52K) [text/plain]\n",
            "Saving to: ‘data/price.csv’\n",
            "\n",
            "price.csv           100%[===================>]  52.34K  --.-KB/s    in 0.004s  \n",
            "\n",
            "2021-04-14 07:29:30 (12.3 MB/s) - ‘data/price.csv’ saved [53592/53592]\n",
            "\n"
          ],
          "name": "stdout"
        }
      ]
    },
    {
      "cell_type": "code",
      "metadata": {
        "colab": {
          "base_uri": "https://localhost:8080/",
          "height": 0
        },
        "id": "_FpvWjGBSPut",
        "outputId": "7306143a-846e-4d64-90ec-fef4117c51c5"
      },
      "source": [
        "df"
      ],
      "execution_count": 3,
      "outputs": [
        {
          "output_type": "execute_result",
          "data": {
            "text/html": [
              "<div>\n",
              "<style scoped>\n",
              "    .dataframe tbody tr th:only-of-type {\n",
              "        vertical-align: middle;\n",
              "    }\n",
              "\n",
              "    .dataframe tbody tr th {\n",
              "        vertical-align: top;\n",
              "    }\n",
              "\n",
              "    .dataframe thead th {\n",
              "        text-align: right;\n",
              "    }\n",
              "</style>\n",
              "<table border=\"1\" class=\"dataframe\">\n",
              "  <thead>\n",
              "    <tr style=\"text-align: right;\">\n",
              "      <th></th>\n",
              "      <th>Observation</th>\n",
              "      <th>Dist_Taxi</th>\n",
              "      <th>Dist_Market</th>\n",
              "      <th>Dist_Hospital</th>\n",
              "      <th>Carpet</th>\n",
              "      <th>Builtup</th>\n",
              "      <th>Parking</th>\n",
              "      <th>City_Category</th>\n",
              "      <th>Rainfall</th>\n",
              "      <th>House_Price</th>\n",
              "    </tr>\n",
              "  </thead>\n",
              "  <tbody>\n",
              "    <tr>\n",
              "      <th>0</th>\n",
              "      <td>1</td>\n",
              "      <td>9796.0</td>\n",
              "      <td>5250.0</td>\n",
              "      <td>10703.0</td>\n",
              "      <td>1659.0</td>\n",
              "      <td>1961.0</td>\n",
              "      <td>Open</td>\n",
              "      <td>CAT B</td>\n",
              "      <td>530</td>\n",
              "      <td>6649000</td>\n",
              "    </tr>\n",
              "    <tr>\n",
              "      <th>1</th>\n",
              "      <td>2</td>\n",
              "      <td>8294.0</td>\n",
              "      <td>8186.0</td>\n",
              "      <td>12694.0</td>\n",
              "      <td>1461.0</td>\n",
              "      <td>1752.0</td>\n",
              "      <td>Not Provided</td>\n",
              "      <td>CAT B</td>\n",
              "      <td>210</td>\n",
              "      <td>3982000</td>\n",
              "    </tr>\n",
              "    <tr>\n",
              "      <th>2</th>\n",
              "      <td>3</td>\n",
              "      <td>11001.0</td>\n",
              "      <td>14399.0</td>\n",
              "      <td>16991.0</td>\n",
              "      <td>1340.0</td>\n",
              "      <td>1609.0</td>\n",
              "      <td>Not Provided</td>\n",
              "      <td>CAT A</td>\n",
              "      <td>720</td>\n",
              "      <td>5401000</td>\n",
              "    </tr>\n",
              "    <tr>\n",
              "      <th>3</th>\n",
              "      <td>4</td>\n",
              "      <td>8301.0</td>\n",
              "      <td>11188.0</td>\n",
              "      <td>12289.0</td>\n",
              "      <td>1451.0</td>\n",
              "      <td>1748.0</td>\n",
              "      <td>Covered</td>\n",
              "      <td>CAT B</td>\n",
              "      <td>620</td>\n",
              "      <td>5373000</td>\n",
              "    </tr>\n",
              "    <tr>\n",
              "      <th>4</th>\n",
              "      <td>5</td>\n",
              "      <td>10510.0</td>\n",
              "      <td>12629.0</td>\n",
              "      <td>13921.0</td>\n",
              "      <td>1770.0</td>\n",
              "      <td>2111.0</td>\n",
              "      <td>Not Provided</td>\n",
              "      <td>CAT B</td>\n",
              "      <td>450</td>\n",
              "      <td>4662000</td>\n",
              "    </tr>\n",
              "    <tr>\n",
              "      <th>...</th>\n",
              "      <td>...</td>\n",
              "      <td>...</td>\n",
              "      <td>...</td>\n",
              "      <td>...</td>\n",
              "      <td>...</td>\n",
              "      <td>...</td>\n",
              "      <td>...</td>\n",
              "      <td>...</td>\n",
              "      <td>...</td>\n",
              "      <td>...</td>\n",
              "    </tr>\n",
              "    <tr>\n",
              "      <th>931</th>\n",
              "      <td>932</td>\n",
              "      <td>9297.0</td>\n",
              "      <td>12537.0</td>\n",
              "      <td>14418.0</td>\n",
              "      <td>1174.0</td>\n",
              "      <td>1429.0</td>\n",
              "      <td>Covered</td>\n",
              "      <td>CAT C</td>\n",
              "      <td>1110</td>\n",
              "      <td>5434000</td>\n",
              "    </tr>\n",
              "    <tr>\n",
              "      <th>932</th>\n",
              "      <td>933</td>\n",
              "      <td>10915.0</td>\n",
              "      <td>17486.0</td>\n",
              "      <td>15964.0</td>\n",
              "      <td>1549.0</td>\n",
              "      <td>1851.0</td>\n",
              "      <td>Not Provided</td>\n",
              "      <td>CAT C</td>\n",
              "      <td>1220</td>\n",
              "      <td>7062000</td>\n",
              "    </tr>\n",
              "    <tr>\n",
              "      <th>933</th>\n",
              "      <td>934</td>\n",
              "      <td>9205.0</td>\n",
              "      <td>10418.0</td>\n",
              "      <td>14496.0</td>\n",
              "      <td>1118.0</td>\n",
              "      <td>1337.0</td>\n",
              "      <td>Open</td>\n",
              "      <td>CAT A</td>\n",
              "      <td>560</td>\n",
              "      <td>7227000</td>\n",
              "    </tr>\n",
              "    <tr>\n",
              "      <th>934</th>\n",
              "      <td>935</td>\n",
              "      <td>10915.0</td>\n",
              "      <td>17486.0</td>\n",
              "      <td>15964.0</td>\n",
              "      <td>1549.0</td>\n",
              "      <td>1851.0</td>\n",
              "      <td>Not Provided</td>\n",
              "      <td>CAT C</td>\n",
              "      <td>1220</td>\n",
              "      <td>7062000</td>\n",
              "    </tr>\n",
              "    <tr>\n",
              "      <th>935</th>\n",
              "      <td>936</td>\n",
              "      <td>10915.0</td>\n",
              "      <td>17486.0</td>\n",
              "      <td>15964.0</td>\n",
              "      <td>1549.0</td>\n",
              "      <td>1851.0</td>\n",
              "      <td>Not Provided</td>\n",
              "      <td>CAT C</td>\n",
              "      <td>1220</td>\n",
              "      <td>7062000</td>\n",
              "    </tr>\n",
              "  </tbody>\n",
              "</table>\n",
              "<p>936 rows × 10 columns</p>\n",
              "</div>"
            ],
            "text/plain": [
              "     Observation  Dist_Taxi  Dist_Market  ...  City_Category  Rainfall  House_Price\n",
              "0              1     9796.0       5250.0  ...          CAT B       530      6649000\n",
              "1              2     8294.0       8186.0  ...          CAT B       210      3982000\n",
              "2              3    11001.0      14399.0  ...          CAT A       720      5401000\n",
              "3              4     8301.0      11188.0  ...          CAT B       620      5373000\n",
              "4              5    10510.0      12629.0  ...          CAT B       450      4662000\n",
              "..           ...        ...          ...  ...            ...       ...          ...\n",
              "931          932     9297.0      12537.0  ...          CAT C      1110      5434000\n",
              "932          933    10915.0      17486.0  ...          CAT C      1220      7062000\n",
              "933          934     9205.0      10418.0  ...          CAT A       560      7227000\n",
              "934          935    10915.0      17486.0  ...          CAT C      1220      7062000\n",
              "935          936    10915.0      17486.0  ...          CAT C      1220      7062000\n",
              "\n",
              "[936 rows x 10 columns]"
            ]
          },
          "metadata": {
            "tags": []
          },
          "execution_count": 3
        }
      ]
    },
    {
      "cell_type": "code",
      "metadata": {
        "colab": {
          "base_uri": "https://localhost:8080/"
        },
        "id": "WqHXBVIzSQ5o",
        "outputId": "bb1d515e-02c8-48b6-eedf-56b0731995ec"
      },
      "source": [
        "Q1 = df['House_Price'].quantile(0.25)\n",
        "Q3 = df['House_Price'].quantile(0.75)\n",
        "IQR = Q3 - Q1\n",
        "print(\"Q1 = {}, Q3 = {}, IQR = {}\".format(Q1, Q3, IQR))"
      ],
      "execution_count": 4,
      "outputs": [
        {
          "output_type": "stream",
          "text": [
            "Q1 = 4661000.0, Q3 = 7187250.0, IQR = 2526250.0\n"
          ],
          "name": "stdout"
        }
      ]
    },
    {
      "cell_type": "code",
      "metadata": {
        "colab": {
          "base_uri": "https://localhost:8080/"
        },
        "id": "1jHpFB1hSTrf",
        "outputId": "11a825d2-5c9a-41eb-a1ae-ff6288472ebd"
      },
      "source": [
        " Lower_limit = Q1 - 1.5*IQR\n",
        " Upper_limit = Q3 + 1.5*IQR\n",
        " print(\"Lower_limit = {}, Upper_limit = {}\".format(Lower_limit, Upper_limit))"
      ],
      "execution_count": 5,
      "outputs": [
        {
          "output_type": "stream",
          "text": [
            "Lower_limit = 871625.0, Upper_limit = 10976625.0\n"
          ],
          "name": "stdout"
        }
      ]
    },
    {
      "cell_type": "code",
      "metadata": {
        "colab": {
          "base_uri": "https://localhost:8080/",
          "height": 0
        },
        "id": "dPljxJy2SUyF",
        "outputId": "aefd9402-69f4-400b-e4c8-5e6b9a2ad789"
      },
      "source": [
        " #mendeteksi outliersoutliers_ = df[(df.House_Price<Lower_limit)|(df.House_Price>Upper_limit)]\n",
        " outliers_ =  df[(df.House_Price<Lower_limit)|(df.House_Price>Upper_limit)]\n",
        " outliers_"
      ],
      "execution_count": 6,
      "outputs": [
        {
          "output_type": "execute_result",
          "data": {
            "text/html": [
              "<div>\n",
              "<style scoped>\n",
              "    .dataframe tbody tr th:only-of-type {\n",
              "        vertical-align: middle;\n",
              "    }\n",
              "\n",
              "    .dataframe tbody tr th {\n",
              "        vertical-align: top;\n",
              "    }\n",
              "\n",
              "    .dataframe thead th {\n",
              "        text-align: right;\n",
              "    }\n",
              "</style>\n",
              "<table border=\"1\" class=\"dataframe\">\n",
              "  <thead>\n",
              "    <tr style=\"text-align: right;\">\n",
              "      <th></th>\n",
              "      <th>Observation</th>\n",
              "      <th>Dist_Taxi</th>\n",
              "      <th>Dist_Market</th>\n",
              "      <th>Dist_Hospital</th>\n",
              "      <th>Carpet</th>\n",
              "      <th>Builtup</th>\n",
              "      <th>Parking</th>\n",
              "      <th>City_Category</th>\n",
              "      <th>Rainfall</th>\n",
              "      <th>House_Price</th>\n",
              "    </tr>\n",
              "  </thead>\n",
              "  <tbody>\n",
              "    <tr>\n",
              "      <th>360</th>\n",
              "      <td>361</td>\n",
              "      <td>20662.0</td>\n",
              "      <td>20945.0</td>\n",
              "      <td>23294.0</td>\n",
              "      <td>24300.0</td>\n",
              "      <td>12730.0</td>\n",
              "      <td>Covered</td>\n",
              "      <td>CAT B</td>\n",
              "      <td>1130</td>\n",
              "      <td>150000000</td>\n",
              "    </tr>\n",
              "    <tr>\n",
              "      <th>678</th>\n",
              "      <td>679</td>\n",
              "      <td>7288.0</td>\n",
              "      <td>9560.0</td>\n",
              "      <td>12531.0</td>\n",
              "      <td>1989.0</td>\n",
              "      <td>2414.0</td>\n",
              "      <td>No Parking</td>\n",
              "      <td>CAT A</td>\n",
              "      <td>860</td>\n",
              "      <td>11632000</td>\n",
              "    </tr>\n",
              "    <tr>\n",
              "      <th>811</th>\n",
              "      <td>812</td>\n",
              "      <td>NaN</td>\n",
              "      <td>NaN</td>\n",
              "      <td>NaN</td>\n",
              "      <td>NaN</td>\n",
              "      <td>NaN</td>\n",
              "      <td>Open</td>\n",
              "      <td>CAT A</td>\n",
              "      <td>440</td>\n",
              "      <td>30000</td>\n",
              "    </tr>\n",
              "  </tbody>\n",
              "</table>\n",
              "</div>"
            ],
            "text/plain": [
              "     Observation  Dist_Taxi  Dist_Market  ...  City_Category  Rainfall  House_Price\n",
              "360          361    20662.0      20945.0  ...          CAT B      1130    150000000\n",
              "678          679     7288.0       9560.0  ...          CAT A       860     11632000\n",
              "811          812        NaN          NaN  ...          CAT A       440        30000\n",
              "\n",
              "[3 rows x 10 columns]"
            ]
          },
          "metadata": {
            "tags": []
          },
          "execution_count": 6
        }
      ]
    },
    {
      "cell_type": "code",
      "metadata": {
        "colab": {
          "base_uri": "https://localhost:8080/",
          "height": 0
        },
        "id": "eQuiTP79SWC8",
        "outputId": "927f17ca-60db-473d-80a0-443a4742cc17"
      },
      "source": [
        "# membuang semua outliers\n",
        "df_no_outliers = df[(df.House_Price>Lower_limit)&(df.House_Price<Upper_limit)]\n",
        "df_no_outliers"
      ],
      "execution_count": 7,
      "outputs": [
        {
          "output_type": "execute_result",
          "data": {
            "text/html": [
              "<div>\n",
              "<style scoped>\n",
              "    .dataframe tbody tr th:only-of-type {\n",
              "        vertical-align: middle;\n",
              "    }\n",
              "\n",
              "    .dataframe tbody tr th {\n",
              "        vertical-align: top;\n",
              "    }\n",
              "\n",
              "    .dataframe thead th {\n",
              "        text-align: right;\n",
              "    }\n",
              "</style>\n",
              "<table border=\"1\" class=\"dataframe\">\n",
              "  <thead>\n",
              "    <tr style=\"text-align: right;\">\n",
              "      <th></th>\n",
              "      <th>Observation</th>\n",
              "      <th>Dist_Taxi</th>\n",
              "      <th>Dist_Market</th>\n",
              "      <th>Dist_Hospital</th>\n",
              "      <th>Carpet</th>\n",
              "      <th>Builtup</th>\n",
              "      <th>Parking</th>\n",
              "      <th>City_Category</th>\n",
              "      <th>Rainfall</th>\n",
              "      <th>House_Price</th>\n",
              "    </tr>\n",
              "  </thead>\n",
              "  <tbody>\n",
              "    <tr>\n",
              "      <th>0</th>\n",
              "      <td>1</td>\n",
              "      <td>9796.0</td>\n",
              "      <td>5250.0</td>\n",
              "      <td>10703.0</td>\n",
              "      <td>1659.0</td>\n",
              "      <td>1961.0</td>\n",
              "      <td>Open</td>\n",
              "      <td>CAT B</td>\n",
              "      <td>530</td>\n",
              "      <td>6649000</td>\n",
              "    </tr>\n",
              "    <tr>\n",
              "      <th>1</th>\n",
              "      <td>2</td>\n",
              "      <td>8294.0</td>\n",
              "      <td>8186.0</td>\n",
              "      <td>12694.0</td>\n",
              "      <td>1461.0</td>\n",
              "      <td>1752.0</td>\n",
              "      <td>Not Provided</td>\n",
              "      <td>CAT B</td>\n",
              "      <td>210</td>\n",
              "      <td>3982000</td>\n",
              "    </tr>\n",
              "    <tr>\n",
              "      <th>2</th>\n",
              "      <td>3</td>\n",
              "      <td>11001.0</td>\n",
              "      <td>14399.0</td>\n",
              "      <td>16991.0</td>\n",
              "      <td>1340.0</td>\n",
              "      <td>1609.0</td>\n",
              "      <td>Not Provided</td>\n",
              "      <td>CAT A</td>\n",
              "      <td>720</td>\n",
              "      <td>5401000</td>\n",
              "    </tr>\n",
              "    <tr>\n",
              "      <th>3</th>\n",
              "      <td>4</td>\n",
              "      <td>8301.0</td>\n",
              "      <td>11188.0</td>\n",
              "      <td>12289.0</td>\n",
              "      <td>1451.0</td>\n",
              "      <td>1748.0</td>\n",
              "      <td>Covered</td>\n",
              "      <td>CAT B</td>\n",
              "      <td>620</td>\n",
              "      <td>5373000</td>\n",
              "    </tr>\n",
              "    <tr>\n",
              "      <th>4</th>\n",
              "      <td>5</td>\n",
              "      <td>10510.0</td>\n",
              "      <td>12629.0</td>\n",
              "      <td>13921.0</td>\n",
              "      <td>1770.0</td>\n",
              "      <td>2111.0</td>\n",
              "      <td>Not Provided</td>\n",
              "      <td>CAT B</td>\n",
              "      <td>450</td>\n",
              "      <td>4662000</td>\n",
              "    </tr>\n",
              "    <tr>\n",
              "      <th>...</th>\n",
              "      <td>...</td>\n",
              "      <td>...</td>\n",
              "      <td>...</td>\n",
              "      <td>...</td>\n",
              "      <td>...</td>\n",
              "      <td>...</td>\n",
              "      <td>...</td>\n",
              "      <td>...</td>\n",
              "      <td>...</td>\n",
              "      <td>...</td>\n",
              "    </tr>\n",
              "    <tr>\n",
              "      <th>931</th>\n",
              "      <td>932</td>\n",
              "      <td>9297.0</td>\n",
              "      <td>12537.0</td>\n",
              "      <td>14418.0</td>\n",
              "      <td>1174.0</td>\n",
              "      <td>1429.0</td>\n",
              "      <td>Covered</td>\n",
              "      <td>CAT C</td>\n",
              "      <td>1110</td>\n",
              "      <td>5434000</td>\n",
              "    </tr>\n",
              "    <tr>\n",
              "      <th>932</th>\n",
              "      <td>933</td>\n",
              "      <td>10915.0</td>\n",
              "      <td>17486.0</td>\n",
              "      <td>15964.0</td>\n",
              "      <td>1549.0</td>\n",
              "      <td>1851.0</td>\n",
              "      <td>Not Provided</td>\n",
              "      <td>CAT C</td>\n",
              "      <td>1220</td>\n",
              "      <td>7062000</td>\n",
              "    </tr>\n",
              "    <tr>\n",
              "      <th>933</th>\n",
              "      <td>934</td>\n",
              "      <td>9205.0</td>\n",
              "      <td>10418.0</td>\n",
              "      <td>14496.0</td>\n",
              "      <td>1118.0</td>\n",
              "      <td>1337.0</td>\n",
              "      <td>Open</td>\n",
              "      <td>CAT A</td>\n",
              "      <td>560</td>\n",
              "      <td>7227000</td>\n",
              "    </tr>\n",
              "    <tr>\n",
              "      <th>934</th>\n",
              "      <td>935</td>\n",
              "      <td>10915.0</td>\n",
              "      <td>17486.0</td>\n",
              "      <td>15964.0</td>\n",
              "      <td>1549.0</td>\n",
              "      <td>1851.0</td>\n",
              "      <td>Not Provided</td>\n",
              "      <td>CAT C</td>\n",
              "      <td>1220</td>\n",
              "      <td>7062000</td>\n",
              "    </tr>\n",
              "    <tr>\n",
              "      <th>935</th>\n",
              "      <td>936</td>\n",
              "      <td>10915.0</td>\n",
              "      <td>17486.0</td>\n",
              "      <td>15964.0</td>\n",
              "      <td>1549.0</td>\n",
              "      <td>1851.0</td>\n",
              "      <td>Not Provided</td>\n",
              "      <td>CAT C</td>\n",
              "      <td>1220</td>\n",
              "      <td>7062000</td>\n",
              "    </tr>\n",
              "  </tbody>\n",
              "</table>\n",
              "<p>933 rows × 10 columns</p>\n",
              "</div>"
            ],
            "text/plain": [
              "     Observation  Dist_Taxi  Dist_Market  ...  City_Category  Rainfall  House_Price\n",
              "0              1     9796.0       5250.0  ...          CAT B       530      6649000\n",
              "1              2     8294.0       8186.0  ...          CAT B       210      3982000\n",
              "2              3    11001.0      14399.0  ...          CAT A       720      5401000\n",
              "3              4     8301.0      11188.0  ...          CAT B       620      5373000\n",
              "4              5    10510.0      12629.0  ...          CAT B       450      4662000\n",
              "..           ...        ...          ...  ...            ...       ...          ...\n",
              "931          932     9297.0      12537.0  ...          CAT C      1110      5434000\n",
              "932          933    10915.0      17486.0  ...          CAT C      1220      7062000\n",
              "933          934     9205.0      10418.0  ...          CAT A       560      7227000\n",
              "934          935    10915.0      17486.0  ...          CAT C      1220      7062000\n",
              "935          936    10915.0      17486.0  ...          CAT C      1220      7062000\n",
              "\n",
              "[933 rows x 10 columns]"
            ]
          },
          "metadata": {
            "tags": []
          },
          "execution_count": 7
        }
      ]
    },
    {
      "cell_type": "code",
      "metadata": {
        "colab": {
          "base_uri": "https://localhost:8080/",
          "height": 0
        },
        "id": "9wgsH3dgSXTU",
        "outputId": "6a5bd871-a06f-4588-9978-076e87fdb52e"
      },
      "source": [
        "#boxplot tanpa outliers\n",
        "p = sns.boxplot(x=\"House_Price\", y=\"Parking\", data= df_no_outliers) "
      ],
      "execution_count": 8,
      "outputs": [
        {
          "output_type": "display_data",
          "data": {
            "image/png": "[encoded data removed]",
            "text/plain": [
              "<Figure size 432x288 with 1 Axes>"
            ]
          },
          "metadata": {
            "tags": [],
            "needs_background": "light"
          }
        }
      ]
    },
    {
      "cell_type": "code",
      "metadata": {
        "id": "rtcJJuHcSY3c"
      },
      "source": [
        "#mengeluarkan outliers bawah\n",
        "df_no_lower_outliers = df[(df.House_Price>Lower_limit)]"
      ],
      "execution_count": 9,
      "outputs": []
    },
    {
      "cell_type": "code",
      "metadata": {
        "colab": {
          "base_uri": "https://localhost:8080/",
          "height": 0
        },
        "id": "Q_fqAV9QSaIv",
        "outputId": "c411f927-c61d-49ef-9c4a-64b87a445875"
      },
      "source": [
        "#boxplot tanpa outliers bawah\n",
        "p = sns.boxplot(x=\"House_Price\", y=\"Parking\", data= df_no_lower_outliers) "
      ],
      "execution_count": 10,
      "outputs": [
        {
          "output_type": "display_data",
          "data": {
            "image/png": "[encoded data removed]",
            "text/plain": [
              "<Figure size 432x288 with 1 Axes>"
            ]
          },
          "metadata": {
            "tags": [],
            "needs_background": "light"
          }
        }
      ]
    },
    {
      "cell_type": "code",
      "metadata": {
        "id": "3Bw7DHCGSbU5"
      },
      "source": [
        ""
      ],
      "execution_count": null,
      "outputs": []
    },
    {
      "cell_type": "markdown",
      "metadata": {
        "id": "jNcNmBtvSccw"
      },
      "source": [
        "# Nomor 3"
      ]
    },
    {
      "cell_type": "code",
      "metadata": {
        "id": "2-p9ES1IVwcy"
      },
      "source": [
        "#mengimport modul yang akan digunakan\n",
        "import warnings; warnings.simplefilter('ignore')\n",
        "import scipy, itertools, pandas as pd, matplotlib.pyplot as plt, seaborn as sns, numpy as np\n",
        "from scipy import stats\n",
        "from sklearn.preprocessing import StandardScaler, MinMaxScaler\n",
        "\n",
        "plt.style.use('bmh'); sns.set()"
      ],
      "execution_count": 40,
      "outputs": []
    },
    {
      "cell_type": "code",
      "metadata": {
        "id": "3a2WpCl1X-iE"
      },
      "source": [
        "#mengimport data yang akan digunakan\n",
        "tips = sns.load_dataset('tips')"
      ],
      "execution_count": 41,
      "outputs": []
    },
    {
      "cell_type": "markdown",
      "metadata": {
        "id": "DqeXUAJGX6JR"
      },
      "source": [
        "Nomor 1 : Adakah tipe variabel yang kurang tepat di data tersebut?"
      ]
    },
    {
      "cell_type": "code",
      "metadata": {
        "colab": {
          "base_uri": "https://localhost:8080/"
        },
        "id": "tt-X9rmQWafZ",
        "outputId": "4404002f-23a4-4807-b7d8-b4032ee1973b"
      },
      "source": [
        "#memeriksa tipe variabel data\n",
        "tips.dtypes"
      ],
      "execution_count": 42,
      "outputs": [
        {
          "output_type": "execute_result",
          "data": {
            "text/plain": [
              "total_bill     float64\n",
              "tip            float64\n",
              "sex           category\n",
              "smoker        category\n",
              "day           category\n",
              "time          category\n",
              "size             int64\n",
              "dtype: object"
            ]
          },
          "metadata": {
            "tags": []
          },
          "execution_count": 42
        }
      ]
    },
    {
      "cell_type": "markdown",
      "metadata": {
        "id": "ETMGWrJpYEO7"
      },
      "source": [
        "Kesimpulan: Berdasarkan pemeriksaan diatas, terlihat bahwa data \"day\" dan \"time\" memiliki tipe variabel category. Semenetara, \"day\" dan \"time\" merupakan data time series maka seharusnya memiliki tipe variabel datetime64."
      ]
    },
    {
      "cell_type": "markdown",
      "metadata": {
        "id": "IoFfKf5MYG50"
      },
      "source": [
        "Nomor 2 : Apakah data numeriknya cenderung berdistribusi normal?"
      ]
    },
    {
      "cell_type": "code",
      "metadata": {
        "colab": {
          "base_uri": "https://localhost:8080/",
          "height": 285
        },
        "id": "R5QKHwDxYB4M",
        "outputId": "e8927d21-be7d-411d-b149-e6e4fa4a2e76"
      },
      "source": [
        "#memeriksa distribusi dari data total_bill\n",
        "tips.mean()\n",
        "p = sns.distplot(tips['total_bill'], kde=True, rug=True)"
      ],
      "execution_count": 43,
      "outputs": [
        {
          "output_type": "display_data",
          "data": {
            "image/png": "[encoded data removed]",
            "text/plain": [
              "<Figure size 432x288 with 1 Axes>"
            ]
          },
          "metadata": {
            "tags": []
          }
        }
      ]
    },
    {
      "cell_type": "code",
      "metadata": {
        "colab": {
          "base_uri": "https://localhost:8080/",
          "height": 285
        },
        "id": "ntKyhs2qYS0B",
        "outputId": "00e5108c-7837-499a-f100-689b7d2c4a65"
      },
      "source": [
        "#memeriksa distribusi dari data tip\n",
        "tips.mean()\n",
        "q = sns.distplot(tips['tip'], kde=True, rug=True)"
      ],
      "execution_count": 44,
      "outputs": [
        {
          "output_type": "display_data",
          "data": {
            "image/png": "[encoded data removed]",
            "text/plain": [
              "<Figure size 432x288 with 1 Axes>"
            ]
          },
          "metadata": {
            "tags": []
          }
        }
      ]
    },
    {
      "cell_type": "markdown",
      "metadata": {
        "id": "PYlz77mZYWRd"
      },
      "source": [
        "Kesimpulan: Berdasarkan visualisasi dan perhitungan rata-rata di atas, terlihat bahwa nilai rata ratanya bukan merupakan titik puncak kurva.  Secara gambar juga terlihat kurvanya tidak berbentuk lonceng/tidak simetris. Maka, data numeriknya tidak berdistribusi normal."
      ]
    },
    {
      "cell_type": "markdown",
      "metadata": {
        "id": "B_LjvO40Yfle"
      },
      "source": [
        "Nomor 3 : Apakah ada *outlier*, *noise*, *missing values*, dan/atau duplikasi data?"
      ]
    },
    {
      "cell_type": "code",
      "metadata": {
        "colab": {
          "base_uri": "https://localhost:8080/",
          "height": 285
        },
        "id": "cD1K00P1YTI6",
        "outputId": "ee1a44cd-03d4-45dc-d62d-da3ca35231fd"
      },
      "source": [
        "#memeriksa keberadaan outlier\n",
        "r = sns.boxplot(x=\"sex\", y=\"total_bill\", data=tips)"
      ],
      "execution_count": 45,
      "outputs": [
        {
          "output_type": "display_data",
          "data": {
            "image/png": "[encoded data removed]",
            "text/plain": [
              "<Figure size 432x288 with 1 Axes>"
            ]
          },
          "metadata": {
            "tags": []
          }
        }
      ]
    },
    {
      "cell_type": "markdown",
      "metadata": {
        "id": "ByM2ERSwYr1x"
      },
      "source": [
        "Kesimpulan: Berdasarkan visualisasi di atas, terlihat terdapat beberapa outlier pada data."
      ]
    },
    {
      "cell_type": "code",
      "metadata": {
        "colab": {
          "base_uri": "https://localhost:8080/"
        },
        "id": "RFkjPXfAYly5",
        "outputId": "d1e8902a-e243-4f80-8a19-1afb9ff7bd74"
      },
      "source": [
        "#memeriksa keberadaan missing values\n",
        "print(tips.isnull().sum())"
      ],
      "execution_count": 46,
      "outputs": [
        {
          "output_type": "stream",
          "text": [
            "total_bill    0\n",
            "tip           0\n",
            "sex           0\n",
            "smoker        0\n",
            "day           0\n",
            "time          0\n",
            "size          0\n",
            "dtype: int64\n"
          ],
          "name": "stdout"
        }
      ]
    },
    {
      "cell_type": "markdown",
      "metadata": {
        "id": "aU7ICLnLYsx_"
      },
      "source": [
        "Kesimpulan: Tidak ada *missing values*."
      ]
    },
    {
      "cell_type": "code",
      "metadata": {
        "colab": {
          "base_uri": "https://localhost:8080/"
        },
        "id": "NeSX-cOmYnkX",
        "outputId": "fcd0e0f7-1c8e-43f1-f8e1-59962b7d9615"
      },
      "source": [
        "#memeriksa keberadaan duplikasi data\n",
        "tips.duplicated().sum()"
      ],
      "execution_count": 47,
      "outputs": [
        {
          "output_type": "execute_result",
          "data": {
            "text/plain": [
              "1"
            ]
          },
          "metadata": {
            "tags": []
          },
          "execution_count": 47
        }
      ]
    },
    {
      "cell_type": "markdown",
      "metadata": {
        "id": "TDvIeeEEY0Pv"
      },
      "source": [
        "Kesimpulan: Terdapat duplikasi data berjumlah satu buah."
      ]
    },
    {
      "cell_type": "code",
      "metadata": {
        "id": "1OPLeiwfZ-KK"
      },
      "source": [
        "import warnings; warnings.simplefilter('ignore')\n",
        "import numpy as np, matplotlib.pyplot as plt, pandas as pd, seaborn as sns\n",
        "import matplotlib.cm as cm\n",
        "from collections import Counter\n",
        "plt.style.use('bmh'); sns.set()"
      ],
      "execution_count": 48,
      "outputs": []
    },
    {
      "cell_type": "code",
      "metadata": {
        "colab": {
          "base_uri": "https://localhost:8080/",
          "height": 194
        },
        "id": "gmcg22i_aBNM",
        "outputId": "9091bfbb-743e-4e53-ffbd-b58ef9e4092b"
      },
      "source": [
        "tips = sns.load_dataset('tips')\n",
        "N, P = tips.shape\n",
        "print('baris = ', N, ', Kolom = ', P)\n",
        "\n",
        "tips.head()"
      ],
      "execution_count": 49,
      "outputs": [
        {
          "output_type": "stream",
          "text": [
            "baris =  244 , Kolom =  7\n"
          ],
          "name": "stdout"
        },
        {
          "output_type": "execute_result",
          "data": {
            "text/html": [
              "<div>\n",
              "<style scoped>\n",
              "    .dataframe tbody tr th:only-of-type {\n",
              "        vertical-align: middle;\n",
              "    }\n",
              "\n",
              "    .dataframe tbody tr th {\n",
              "        vertical-align: top;\n",
              "    }\n",
              "\n",
              "    .dataframe thead th {\n",
              "        text-align: right;\n",
              "    }\n",
              "</style>\n",
              "<table border=\"1\" class=\"dataframe\">\n",
              "  <thead>\n",
              "    <tr style=\"text-align: right;\">\n",
              "      <th></th>\n",
              "      <th>total_bill</th>\n",
              "      <th>tip</th>\n",
              "      <th>sex</th>\n",
              "      <th>smoker</th>\n",
              "      <th>day</th>\n",
              "      <th>time</th>\n",
              "      <th>size</th>\n",
              "    </tr>\n",
              "  </thead>\n",
              "  <tbody>\n",
              "    <tr>\n",
              "      <th>0</th>\n",
              "      <td>16.99</td>\n",
              "      <td>1.01</td>\n",
              "      <td>Female</td>\n",
              "      <td>No</td>\n",
              "      <td>Sun</td>\n",
              "      <td>Dinner</td>\n",
              "      <td>2</td>\n",
              "    </tr>\n",
              "    <tr>\n",
              "      <th>1</th>\n",
              "      <td>10.34</td>\n",
              "      <td>1.66</td>\n",
              "      <td>Male</td>\n",
              "      <td>No</td>\n",
              "      <td>Sun</td>\n",
              "      <td>Dinner</td>\n",
              "      <td>3</td>\n",
              "    </tr>\n",
              "    <tr>\n",
              "      <th>2</th>\n",
              "      <td>21.01</td>\n",
              "      <td>3.50</td>\n",
              "      <td>Male</td>\n",
              "      <td>No</td>\n",
              "      <td>Sun</td>\n",
              "      <td>Dinner</td>\n",
              "      <td>3</td>\n",
              "    </tr>\n",
              "    <tr>\n",
              "      <th>3</th>\n",
              "      <td>23.68</td>\n",
              "      <td>3.31</td>\n",
              "      <td>Male</td>\n",
              "      <td>No</td>\n",
              "      <td>Sun</td>\n",
              "      <td>Dinner</td>\n",
              "      <td>2</td>\n",
              "    </tr>\n",
              "    <tr>\n",
              "      <th>4</th>\n",
              "      <td>24.59</td>\n",
              "      <td>3.61</td>\n",
              "      <td>Female</td>\n",
              "      <td>No</td>\n",
              "      <td>Sun</td>\n",
              "      <td>Dinner</td>\n",
              "      <td>4</td>\n",
              "    </tr>\n",
              "  </tbody>\n",
              "</table>\n",
              "</div>"
            ],
            "text/plain": [
              "   total_bill   tip     sex smoker  day    time  size\n",
              "0       16.99  1.01  Female     No  Sun  Dinner     2\n",
              "1       10.34  1.66    Male     No  Sun  Dinner     3\n",
              "2       21.01  3.50    Male     No  Sun  Dinner     3\n",
              "3       23.68  3.31    Male     No  Sun  Dinner     2\n",
              "4       24.59  3.61  Female     No  Sun  Dinner     4"
            ]
          },
          "metadata": {
            "tags": []
          },
          "execution_count": 49
        }
      ]
    },
    {
      "cell_type": "markdown",
      "metadata": {
        "id": "X5Iufgi2aMcz"
      },
      "source": [
        "Nomor 4 : Apakah pelanggan pria dan wanita cenderung proporsional (balance)?"
      ]
    },
    {
      "cell_type": "code",
      "metadata": {
        "colab": {
          "base_uri": "https://localhost:8080/",
          "height": 264
        },
        "id": "MzbrrRDdYx9l",
        "outputId": "bce2e077-13ee-49e6-eadc-63179af92d76"
      },
      "source": [
        "data = tips['sex']\n",
        "\n",
        "proporsion = Counter(data)\n",
        "values = [float(v) for v in proporsion.values()]\n",
        "colors = ['g', 'b']\n",
        "labels = proporsion.keys()\n",
        "plt.pie(values, colors=colors, labels= values, shadow=True)\n",
        "plt.title('Proporsi Pelanggan Pria dan Wanita')\n",
        "plt.legend(labels,loc='best')\n",
        "plt.show()"
      ],
      "execution_count": 50,
      "outputs": [
        {
          "output_type": "display_data",
          "data": {
            "image/png": "[encoded data removed]",
            "text/plain": [
              "<Figure size 432x288 with 1 Axes>"
            ]
          },
          "metadata": {
            "tags": []
          }
        }
      ]
    },
    {
      "cell_type": "markdown",
      "metadata": {
        "id": "9edwRLLYaPwF"
      },
      "source": [
        "Dengan menggunakan visualisasi data satu dimensi dalam bentuk *pie chart*, didapatkan pelanggan total 244 dengan pelanggan pria sebesar 157 orang dan pelanggan wanita sebesar 87 orang. Dengan pria memiliki rasio hampir 2/3 dari total pelanggan, maka dapat disimpulkan bahwa pelanggan pria dan wanita tidak proporsional (unbalance)"
      ]
    },
    {
      "cell_type": "markdown",
      "metadata": {
        "id": "164_rEa_aRQj"
      },
      "source": [
        "Nomor 5 : Dari data yang ada apakah pria atau wanita ada kecenderungan memberi tips lebih besar?"
      ]
    },
    {
      "cell_type": "code",
      "metadata": {
        "colab": {
          "base_uri": "https://localhost:8080/",
          "height": 381
        },
        "id": "TuNEUd_maNp8",
        "outputId": "703085e4-dc23-43f8-c54b-668f0ce33e8d"
      },
      "source": [
        "p = sns.catplot(x = \"sex\",y = \"tip\", data = tips )"
      ],
      "execution_count": 51,
      "outputs": [
        {
          "output_type": "display_data",
          "data": {
            "image/png": "[encoded data removed]",
            "text/plain": [
              "<Figure size 360x360 with 1 Axes>"
            ]
          },
          "metadata": {
            "tags": []
          }
        }
      ]
    },
    {
      "cell_type": "markdown",
      "metadata": {
        "id": "C6tVi3h6aWAy"
      },
      "source": [
        "Dengan menggunakan visualiasi data *scatter plot*, dapat dilihat sebaran pemberian tips berdasarkan sex. Pria cenderung memberi tips lebih besar daripada wanita dengan tips maksimal pria 10, sedangkan wanita 6-7. Namun, rata-rata pemberian tips pria maupun wanita sama karena pada data tips terdapat  outlier."
      ]
    },
    {
      "cell_type": "markdown",
      "metadata": {
        "id": "MdJmRT7BaYUf"
      },
      "source": [
        "Nomor 6 :  Dari data yang ada apakah ada kecenderungan tips lebih besar di hari-hari tertentu?"
      ]
    },
    {
      "cell_type": "code",
      "metadata": {
        "colab": {
          "base_uri": "https://localhost:8080/",
          "height": 381
        },
        "id": "ktuBuJtOaUoN",
        "outputId": "599bdfb5-fa13-414f-eb0e-d4d968dc8c2d"
      },
      "source": [
        "p = sns.catplot(x = \"day\", y = \"tip\", hue =\"sex\", kind = \"swarm\", data = tips)"
      ],
      "execution_count": 52,
      "outputs": [
        {
          "output_type": "display_data",
          "data": {
            "image/png": "[encoded data removed]",
            "text/plain": [
              "<Figure size 439.725x360 with 1 Axes>"
            ]
          },
          "metadata": {
            "tags": []
          }
        }
      ]
    },
    {
      "cell_type": "markdown",
      "metadata": {
        "id": "kzwGvmmZacgY"
      },
      "source": [
        "Dengan menggunakan visualisasi data *swarm plot*, bisa dilihat sebaran tips berdasarkan hari dan sex. Berdasarkan visualisasi data, tips pada hari sabtu dan minggu cenderung lebih besar dibanding hari-hari lainnya. Dengan hari jumat memiliki pemberian tips paling rendah, rataan pemberian tips pada hari-hari lainnya cenderung mirip atau sama."
      ]
    },
    {
      "cell_type": "code",
      "metadata": {
        "id": "yR9OyXsaa9J9"
      },
      "source": [
        "import warnings; warnings.simplefilter('ignore')\n",
        "import matplotlib.pyplot as plt, seaborn as sns\n",
        "plt.style.use('bmh'); sns.set()\n",
        "\n",
        "tips = sns.load_dataset('tips')"
      ],
      "execution_count": 53,
      "outputs": []
    },
    {
      "cell_type": "markdown",
      "metadata": {
        "id": "MM3Mpy57aghx"
      },
      "source": [
        "Nomor 7 : Dari data yang ada apakah customer perokok cenderung memberi tips lebih besar?"
      ]
    },
    {
      "cell_type": "code",
      "metadata": {
        "colab": {
          "base_uri": "https://localhost:8080/",
          "height": 398
        },
        "id": "L1W-NGp7bBxm",
        "outputId": "53166213-113d-4c8e-a08b-f43790881da6"
      },
      "source": [
        "sns.catplot(x = 'smoker', y = 'tip', data = tips)"
      ],
      "execution_count": 54,
      "outputs": [
        {
          "output_type": "execute_result",
          "data": {
            "text/plain": [
              "<seaborn.axisgrid.FacetGrid at 0x7f4f924716d0>"
            ]
          },
          "metadata": {
            "tags": []
          },
          "execution_count": 54
        },
        {
          "output_type": "display_data",
          "data": {
            "image/png": "[encoded data removed]",
            "text/plain": [
              "<Figure size 360x360 with 1 Axes>"
            ]
          },
          "metadata": {
            "tags": []
          }
        }
      ]
    },
    {
      "cell_type": "markdown",
      "metadata": {
        "id": "ed-eY3SIbFu6"
      },
      "source": [
        "Kesimpulan: tidak ada kecenderungan bahwa customer perokok memberi tip lebih besar karena kedua tipe cutomer tidak menunjukkan perbedaan yang signifikan dalam pemberian tip."
      ]
    },
    {
      "cell_type": "markdown",
      "metadata": {
        "id": "3KzrDeuRbJgY"
      },
      "source": [
        "Nomor 8 :  Apakah pola di nomer 5 dan 7 dipengaruhi hari?"
      ]
    },
    {
      "cell_type": "code",
      "metadata": {
        "colab": {
          "base_uri": "https://localhost:8080/",
          "height": 398
        },
        "id": "JfiVNRZgbDEX",
        "outputId": "bb06b0ce-0f5e-4a9a-ccbb-0e45dd0e67bc"
      },
      "source": [
        "#No 5\n",
        "sns.catplot(x = 'day', y = 'tip', hue = 'sex', data = tips)"
      ],
      "execution_count": 55,
      "outputs": [
        {
          "output_type": "execute_result",
          "data": {
            "text/plain": [
              "<seaborn.axisgrid.FacetGrid at 0x7f4f923f1310>"
            ]
          },
          "metadata": {
            "tags": []
          },
          "execution_count": 55
        },
        {
          "output_type": "display_data",
          "data": {
            "image/png": "[encoded data removed]",
            "text/plain": [
              "<Figure size 439.725x360 with 1 Axes>"
            ]
          },
          "metadata": {
            "tags": []
          }
        }
      ]
    },
    {
      "cell_type": "code",
      "metadata": {
        "colab": {
          "base_uri": "https://localhost:8080/",
          "height": 398
        },
        "id": "TyT6KsiobNhR",
        "outputId": "dc0b384b-32a6-423e-91b1-9f62bcdf10fa"
      },
      "source": [
        "#No 7\n",
        "sns.catplot(x = 'day', y = 'tip', hue = 'smoker', data = tips)"
      ],
      "execution_count": 56,
      "outputs": [
        {
          "output_type": "execute_result",
          "data": {
            "text/plain": [
              "<seaborn.axisgrid.FacetGrid at 0x7f4f9244cf90>"
            ]
          },
          "metadata": {
            "tags": []
          },
          "execution_count": 56
        },
        {
          "output_type": "display_data",
          "data": {
            "image/png": "[encoded data removed]",
            "text/plain": [
              "<Figure size 417.475x360 with 1 Axes>"
            ]
          },
          "metadata": {
            "tags": []
          }
        }
      ]
    },
    {
      "cell_type": "markdown",
      "metadata": {
        "id": "9l9LoS4ZbO73"
      },
      "source": [
        "Kesimpulan: Pola di nomor 5 dan 7 keduanya dipengaruhi oleh hari karena berdasarkan visualisasi di kedua nomor tersebut, lebih banyak customer yang memberikan tip di akhir pekan."
      ]
    },
    {
      "cell_type": "markdown",
      "metadata": {
        "id": "KxWpjrdWbQ6q"
      },
      "source": [
        "Nomor 9 :  Pola apalagi yang dapat anda temukan? (misal, bisakah anda menyarankan tata letak kursi/meja restaurant dari data ini?)"
      ]
    },
    {
      "cell_type": "code",
      "metadata": {
        "colab": {
          "base_uri": "https://localhost:8080/",
          "height": 302
        },
        "id": "ht--aMRVbNyH",
        "outputId": "f0312c0b-33cf-4542-d1c7-a71c0241e945"
      },
      "source": [
        "sns.countplot(x = 'day', data = tips)"
      ],
      "execution_count": 57,
      "outputs": [
        {
          "output_type": "execute_result",
          "data": {
            "text/plain": [
              "<matplotlib.axes._subplots.AxesSubplot at 0x7f4f922e1450>"
            ]
          },
          "metadata": {
            "tags": []
          },
          "execution_count": 57
        },
        {
          "output_type": "display_data",
          "data": {
            "image/png": "[encoded data removed]",
            "text/plain": [
              "<Figure size 432x288 with 1 Axes>"
            ]
          },
          "metadata": {
            "tags": []
          }
        }
      ]
    },
    {
      "cell_type": "markdown",
      "metadata": {
        "id": "gczwPPqtbXgY"
      },
      "source": [
        "Terdapat lebih banyak customer di akhir pekan."
      ]
    },
    {
      "cell_type": "code",
      "metadata": {
        "colab": {
          "base_uri": "https://localhost:8080/",
          "height": 302
        },
        "id": "phqCMfR5bZNF",
        "outputId": "89260a0c-8147-4af3-c0aa-054d7f2d80bc"
      },
      "source": [
        "sns.countplot(x = 'day', hue = 'smoker', data = tips)"
      ],
      "execution_count": 58,
      "outputs": [
        {
          "output_type": "execute_result",
          "data": {
            "text/plain": [
              "<matplotlib.axes._subplots.AxesSubplot at 0x7f4f9229b890>"
            ]
          },
          "metadata": {
            "tags": []
          },
          "execution_count": 58
        },
        {
          "output_type": "display_data",
          "data": {
            "image/png": "[encoded data removed]",
            "text/plain": [
              "<Figure size 432x288 with 1 Axes>"
            ]
          },
          "metadata": {
            "tags": []
          }
        }
      ]
    },
    {
      "cell_type": "markdown",
      "metadata": {
        "id": "mO4gWbNEbck_"
      },
      "source": [
        "Customer bukan perokok lebih banyak daripada perokok."
      ]
    },
    {
      "cell_type": "code",
      "metadata": {
        "colab": {
          "base_uri": "https://localhost:8080/",
          "height": 302
        },
        "id": "m3_OXKWxbeGs",
        "outputId": "08305219-daba-4c0e-9fe2-90aeb77d16a7"
      },
      "source": [
        "sns.countplot(x = 'time', data = tips)"
      ],
      "execution_count": 59,
      "outputs": [
        {
          "output_type": "execute_result",
          "data": {
            "text/plain": [
              "<matplotlib.axes._subplots.AxesSubplot at 0x7f4f922b4550>"
            ]
          },
          "metadata": {
            "tags": []
          },
          "execution_count": 59
        },
        {
          "output_type": "display_data",
          "data": {
            "image/png": "[encoded data removed]",
            "text/plain": [
              "<Figure size 432x288 with 1 Axes>"
            ]
          },
          "metadata": {
            "tags": []
          }
        }
      ]
    },
    {
      "cell_type": "markdown",
      "metadata": {
        "id": "h0nWkjr6bisL"
      },
      "source": [
        "Terdapat lebih banyak customer yang datang pada jam makan malam."
      ]
    },
    {
      "cell_type": "code",
      "metadata": {
        "colab": {
          "base_uri": "https://localhost:8080/",
          "height": 302
        },
        "id": "74Dg4ATMbkEO",
        "outputId": "44544c3a-4895-41a2-9860-2b5fc322a520"
      },
      "source": [
        "sns.countplot(x = 'size', data = tips)"
      ],
      "execution_count": 60,
      "outputs": [
        {
          "output_type": "execute_result",
          "data": {
            "text/plain": [
              "<matplotlib.axes._subplots.AxesSubplot at 0x7f4f9222b0d0>"
            ]
          },
          "metadata": {
            "tags": []
          },
          "execution_count": 60
        },
        {
          "output_type": "display_data",
          "data": {
            "image/png": "[encoded data removed]",
            "text/plain": [
              "<Figure size 432x288 with 1 Axes>"
            ]
          },
          "metadata": {
            "tags": []
          }
        }
      ]
    },
    {
      "cell_type": "markdown",
      "metadata": {
        "id": "idGxH4jUbohb"
      },
      "source": [
        "Customer yang datang berdua adalah yang paling banyak."
      ]
    },
    {
      "cell_type": "markdown",
      "metadata": {
        "id": "m7wC98JKbtBs"
      },
      "source": [
        "**10. Final question: dari hasil EDA anda saran apa saja yang akan anda berikan ke pemilik restaurant?**\n",
        "\n",
        "\n",
        "*   Memperpanjang jam buka pada akhir pekan.\n",
        "*   Memperkerjakan lebih banyak pegawai pada akhir pekan.\n",
        "*   Menambah hiburan untuk customer pada akhir pekan, misalnya live music.\n",
        "*   Memperbanyak meja dan kursi pada akhir pekan.\n",
        "*   Memperbanyak meja dan kursi indoor (untuk non-smokers) daripada outdoor (untuk smokers).\n",
        "*   Memperkerjakan lebih banyak pegawai pada jam makan malam.\n",
        "*   Memperbanyak meja dan kursi untuk dua orang.\n",
        "\n",
        "\n",
        "\n",
        "\n",
        "\n",
        "\n",
        "\n",
        "\n"
      ]
    },
    {
      "cell_type": "markdown",
      "metadata": {
        "id": "n83oC2H9bvmQ"
      },
      "source": [
        "**11. Skills/kompetensi apa yang terasa sangat diperlukan dari latihan ini?**\n",
        "\n",
        "*   Mencari dan mengeluarkan outlier dari dataframe\n",
        "*   Memilih jenis visualisasi data yang tepat.\n",
        "*   Menganalisis visualisasi data yang ada.\n",
        "*   Menyampaikan maksud dan kesimpulan dari visualisasi data yang dilakukan.\n",
        "*   Memperkirakan saran yang harus disampaikan berdasarkan visualisasi data.\n",
        "*   List item\n",
        "\n",
        "\n",
        "\n",
        "\n",
        "\n"
      ]
    }
  ]
}